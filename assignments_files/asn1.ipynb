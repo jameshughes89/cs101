{
  "nbformat": 4,
  "nbformat_minor": 0,
  "metadata": {
    "colab": {
      "name": "asn1.ipynb",
      "provenance": [],
      "collapsed_sections": []
    },
    "kernelspec": {
      "name": "python3",
      "display_name": "Python 3"
    }
  },
  "cells": [
    {
      "cell_type": "code",
      "metadata": {
        "id": "-A9BUwqNGg8K"
      },
      "source": [
        "# NAME: \n",
        "# ST-NUMBER: \n",
        "# EMAIL: "
      ],
      "execution_count": null,
      "outputs": []
    },
    {
      "cell_type": "code",
      "metadata": {
        "id": "y-fltEOokGHo"
      },
      "source": [
        "def load_asn1_data():\n",
        "  \"\"\"\n",
        "  This function loads the file `starbucks.csv` and returns a LIST of\n",
        "  latitudes and longitudes for North American Starbucks'.\n",
        "  We'll talk about LISTs formally in class in a few lectures, but maybe\n",
        "  you can start guessing how they work based on what you see here...\n",
        "  \"\"\"\n",
        "    \n",
        "  import csv    # This imports csv \n",
        "    \n",
        "  reader = csv.reader(open('starbucks.csv', 'r'))        # starbucks.csv MUST be in the same directory as this script for this to work!\n",
        "  locations = []  \n",
        "  \n",
        "  # This loop goes through each location and adds it to a list\n",
        "  for r in reader:\n",
        "    locations.append( (r[0],r[1]))\n",
        "        \n",
        "  return locations\n",
        "\n"
      ],
      "execution_count": null,
      "outputs": []
    },
    {
      "cell_type": "code",
      "metadata": {
        "id": "SXNuC805kLfV"
      },
      "source": [
        "def convert_to_decimal(degrees,minutes,seconds):\n",
        "  \"\"\"\n",
        "  You fill in this one yourself!\n",
        "\n",
        "  :param degrees: The degree/min/sec representation of a lat/long\n",
        "  :param minutes: \n",
        "  :param seconds: \n",
        "  \n",
        "  :returns: a (single) decimal lat/long\n",
        "  \"\"\"\n",
        "    \n",
        "  # INSERT YOUR CODE HERE!\n",
        "    \n",
        "  return 0 # replace this with your real return statement (0 is just placeholder) "
      ],
      "execution_count": null,
      "outputs": []
    },
    {
      "cell_type": "code",
      "metadata": {
        "id": "TNxsxpE1kNzt"
      },
      "source": [
        "def subtended_area(lat1,lon1,lat2,lon2):\n",
        "  \"\"\"\n",
        "  You fill in this one yourself!\n",
        "\n",
        "  :param lat1: Latitude one (top or bottom of box)\n",
        "  :param lon1: Longitude one (left or right of box)\n",
        "  :param lat2: Latitude two (top or bottom of box)\n",
        "  :param lon2: Longitude two (left or right of box)\n",
        "  \n",
        "  :returns : the area of the lat-long rectangle between the given points (in km^2)\n",
        "  \"\"\"\n",
        "  \n",
        "\n",
        "  # INSERT YOUR CODE HERE!\n",
        "  return 0 # replace this with your real return statement (0 is just placeholder)"
      ],
      "execution_count": null,
      "outputs": []
    },
    {
      "cell_type": "code",
      "metadata": {
        "id": "1LfAr3RBlodJ"
      },
      "source": [
        "def num_starbucks(locations,lat1,lon1,lat2,lon2):\n",
        "  \"\"\"\n",
        "  Function to compute the number of Starbucks in the lat-long rectangle with \n",
        "  corners lat1,lon1 and lat2,lon2. \n",
        "\n",
        "  There's new stuff in here, too. We haven't formally discussed `for` loops, so\n",
        "  the loop is already done... but have a look 2at it. What do you think it's doing?\n",
        "    \n",
        "  :param locations: a list of Starbucks locations as (lon,lat) pairs\n",
        "  :param lat1: Latitude for bottom left corner (in decimal degrees)\n",
        "  :param lon1: Longitude for bottom left corner (in decimal degrees)\n",
        "  :param lat2: Latitude for upper right corner (in decimal degrees)\n",
        "  :param lon2: Longitude for upper right corner (in decimal degrees)\n",
        "\n",
        "  :returns: An integer with the number of Starbucks locations in the given rectangle\n",
        "  \"\"\"\n",
        "\n",
        "  # HINT: You should probably initialize some kind of 'Starbucks counter' variable here,\n",
        "  # before the loop   \n",
        "    \n",
        "  # This is an instruction to Python: Do the body (the indented code) following\n",
        "  # `for` statement, for _every_ location in our list of locations.\n",
        "  # This is a loop. It's already written for you... you just have to fill in the body\n",
        "  # Really what this means is: Go through each location (line in the input file) and do....... (whatever we're writing below)\n",
        "  for loc in locations:\n",
        "    loc_lat = float(loc[1])    # Values will be strings, so let's make them floats\n",
        "    loc_lon = float(loc[0])\n",
        "                \n",
        "    #print(loc_lat, loc_lon,  (lat1 < loc_lat), ( loc_lat < lat2), (lon1 < loc_lon), (loc_lon < lon2))\n",
        "\n",
        "    \n",
        "    # Okay, loc_lat now contains the latitude of the location we're considering.\n",
        "    # Likewise, loc_lon contains the longitude. What _you_ have to do is:\n",
        "    # - figure out if loc_lat lies between lat1 and lat2 AND loc_long lies between lon1 and lon2 (see picture below)\n",
        "    # - if that's the case, increment a variable containing the number of Starbucks\n",
        "    # - otherwise... do nothing at all\n",
        "    #\n",
        "    #               y\n",
        "    #    |              |\n",
        "    #  --+--------------+--\n",
        "    #    |  x           |\n",
        "    #    |              |\n",
        "    #    |              |\n",
        "    #  --+--------------+--\n",
        "    #    |              |\n",
        "    #\n",
        "    # The lats and longs define a square\n",
        "    # We need to see if the point is inside our outside the square\n",
        "    # In the above example:\n",
        "    # x is in the square, so we need to count this Starbucks\n",
        "    # y us outside the square, so we do NOT count it. \n",
        "        \n",
        "        \n",
        "    # INSERT YOUR CODE HERE!\n",
        "\n",
        "  # RETURN the value in your counter variable\n"
      ],
      "execution_count": null,
      "outputs": []
    },
    {
      "cell_type": "code",
      "metadata": {
        "id": "F0vv-r8Jl4rV"
      },
      "source": [
        "def starbucks_per_kmsq(lat1, lon1, lat2, lon2):\n",
        "  # INSERT YOUR CODE HERE!\n",
        "  return 0 # replace this with your real return statement (0 is just placeholder)"
      ],
      "execution_count": null,
      "outputs": []
    },
    {
      "cell_type": "code",
      "metadata": {
        "id": "MX1XMoJ5l7_9"
      },
      "source": [
        "# This line will test the density of Starbucks in the area bounded by San Diego and Boston\n",
        "# Should be in the neighborhood of 0.00120 sb/km^2 \n",
        "# This will only work if everything above is done correctly\n",
        "starbucks_per_kmsq(32.72,-117.16,42.35,-71.06)"
      ],
      "execution_count": null,
      "outputs": []
    }
  ]
}